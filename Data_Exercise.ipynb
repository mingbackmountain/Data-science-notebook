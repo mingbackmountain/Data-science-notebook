{
 "cells": [
  {
   "cell_type": "code",
   "execution_count": 6,
   "metadata": {},
   "outputs": [
    {
     "name": "stdout",
     "output_type": "stream",
     "text": [
      "Index(['id', 'name', 'host_id', 'host_name', 'neighbourhood_group',\n",
      "       'neighbourhood', 'latitude', 'longitude', 'room_type', 'price',\n",
      "       'minimum_nights', 'number_of_reviews', 'last_review',\n",
      "       'reviews_per_month', 'calculated_host_listings_count',\n",
      "       'availability_365'],\n",
      "      dtype='object')\n"
     ]
    }
   ],
   "source": [
    "import numpy as np # linear algebra\n",
    "import pandas as pd # data processing\n",
    "import matplotlib as mpl # primitive data visualization\n",
    "import matplotlib.pyplot as plt # primitive plotting tool\n",
    "import seaborn as sns # modern plotting tool\n",
    "\n",
    "data_file = './AB_NYC_2019.csv'\n",
    "airbnb = pd.read_csv(data_file)\n",
    "print(airbnb.columns)"
   ]
  },
  {
   "cell_type": "code",
   "execution_count": 19,
   "metadata": {},
   "outputs": [
    {
     "name": "stdout",
     "output_type": "stream",
     "text": [
      "0         463 days\n",
      "1         249 days\n",
      "2       18286 days\n",
      "3         204 days\n",
      "4         432 days\n",
      "           ...    \n",
      "48890   18286 days\n",
      "48891   18286 days\n",
      "48892   18286 days\n",
      "48893   18286 days\n",
      "48894   18286 days\n",
      "Name: day_since_last_review, Length: 48895, dtype: timedelta64[ns]\n"
     ]
    }
   ],
   "source": [
    "#Add a new column (‘day_since_last_review’) that shows the number of days since the last review date\n",
    "from datetime import date, time, timedelta\n",
    "import datetime\n",
    "\n",
    "airbnb['day_since_last_review'] = pd.to_datetime(datetime.date.today()) - airbnb['last_review']\n",
    "print(airbnb['day_since_last_review'])"
   ]
  },
  {
   "cell_type": "code",
   "execution_count": 20,
   "metadata": {},
   "outputs": [
    {
     "name": "stdout",
     "output_type": "stream",
     "text": [
      "0         42.857143\n",
      "1        118.421053\n",
      "2               NaN\n",
      "3         58.189655\n",
      "4         90.000000\n",
      "            ...    \n",
      "48890           NaN\n",
      "48891           NaN\n",
      "48892           NaN\n",
      "48893           NaN\n",
      "48894           NaN\n",
      "Name: months_since_last_review, Length: 48895, dtype: float64\n"
     ]
    }
   ],
   "source": [
    "#Add a new column (‘months_since_first_review’) that shows the number of months since first review (hint: we know the number of reviews and the average reviews per month)\n",
    "airbnb['months_since_last_review'] = airbnb['number_of_reviews'] / airbnb['reviews_per_month']\n",
    "print(airbnb['months_since_last_review'])\n"
   ]
  },
  {
   "cell_type": "code",
   "execution_count": 21,
   "metadata": {},
   "outputs": [
    {
     "name": "stdout",
     "output_type": "stream",
     "text": [
      "0    149\n",
      "1    225\n",
      "2    450\n",
      "3     89\n",
      "4    800\n",
      "Name: expected_income_per_reservation, dtype: int64\n"
     ]
    }
   ],
   "source": [
    "#Add a new column (‘expected_income_per_reservation’) that shows the minimum revenue for each reservation expected by the host (hint: we know the minimum number of nights and the price)\n",
    "airbnb['expected_income_per_reservation'] = airbnb['price'] * airbnb['minimum_nights']\n",
    "print(airbnb['expected_income_per_reservation'].head())"
   ]
  },
  {
   "cell_type": "code",
   "execution_count": 25,
   "metadata": {},
   "outputs": [
    {
     "name": "stdout",
     "output_type": "stream",
     "text": [
      "0      17533\n",
      "365     1295\n",
      "364      491\n",
      "1        408\n",
      "89       361\n",
      "       ...  \n",
      "195       26\n",
      "196       24\n",
      "183       24\n",
      "181       23\n",
      "202       20\n",
      "Name: availability_365, Length: 366, dtype: int64\n",
      "17533\n",
      "17941\n"
     ]
    }
   ],
   "source": [
    "#Find how many listings that show availability_365 of 0 and less than or equal to 1.\n",
    "count = airbnb['availability_365'].value_counts()\n",
    "count_0 = count[0]\n",
    "count_10 = count[0] + count[1]\n",
    "print(count)\n",
    "print(count_0)\n",
    "print(count_10)"
   ]
  },
  {
   "cell_type": "code",
   "execution_count": 27,
   "metadata": {},
   "outputs": [
    {
     "name": "stdout",
     "output_type": "stream",
     "text": [
      "20053\n"
     ]
    }
   ],
   "source": [
    "#Find how many listings that have minimum nights less than 2 or more than 7 days\n",
    "less2_or_more7 = ((airbnb['minimum_nights'] < 2 ) | (airbnb['minimum_nights'] > 7)).sum()\n",
    "print(less2_or_more7)"
   ]
  },
  {
   "cell_type": "code",
   "execution_count": 28,
   "metadata": {},
   "outputs": [
    {
     "name": "stdout",
     "output_type": "stream",
     "text": [
      "118.33333333333333 2500 39\n",
      "205.65178571428572 2850 50\n"
     ]
    }
   ],
   "source": [
    "#Find average, max, min price of Private room_type in 'East Village' and in 'West Village'\n",
    "\n",
    "eastVil_price = airbnb[(airbnb['room_type'] == 'Private room') & (airbnb['neighbourhood'] == 'East Village')]['price'] \n",
    "eastVil_avg = eastVil_price.mean()\n",
    "eastVil_max = eastVil_price.max()\n",
    "eastVil_min = eastVil_price.min()\n",
    "print(eastVil_avg, eastVil_max, eastVil_min)\n",
    "\n",
    "westVil_price = airbnb[(airbnb['room_type'] == 'Private room') & (airbnb['neighbourhood'] == 'West Village')]['price'] \n",
    "westVil_avg = westVil_price.mean()\n",
    "westVil_max = westVil_price.max()\n",
    "westVil_min = westVil_price.min()\n",
    "print(westVil_avg, westVil_max, westVil_min)"
   ]
  },
  {
   "cell_type": "code",
   "execution_count": null,
   "metadata": {},
   "outputs": [],
   "source": []
  }
 ],
 "metadata": {
  "kernelspec": {
   "display_name": "Python 3",
   "language": "python",
   "name": "python3"
  },
  "language_info": {
   "codemirror_mode": {
    "name": "ipython",
    "version": 3
   },
   "file_extension": ".py",
   "mimetype": "text/x-python",
   "name": "python",
   "nbconvert_exporter": "python",
   "pygments_lexer": "ipython3",
   "version": "3.7.4"
  }
 },
 "nbformat": 4,
 "nbformat_minor": 2
}
